{
 "cells": [
  {
   "cell_type": "code",
   "execution_count": 1,
   "id": "f7bb9241",
   "metadata": {},
   "outputs": [],
   "source": [
    "from sklearn.model_selection import train_test_split\n",
    "from sklearn.ensemble import GradientBoostingRegressor\n",
    "import numpy as np\n",
    "import pandas as pd\n",
    "import matplotlib.pyplot as plt"
   ]
  },
  {
   "cell_type": "code",
   "execution_count": 2,
   "id": "3511ddef",
   "metadata": {},
   "outputs": [
    {
     "data": {
      "text/html": [
       "<div>\n",
       "<style scoped>\n",
       "    .dataframe tbody tr th:only-of-type {\n",
       "        vertical-align: middle;\n",
       "    }\n",
       "\n",
       "    .dataframe tbody tr th {\n",
       "        vertical-align: top;\n",
       "    }\n",
       "\n",
       "    .dataframe thead th {\n",
       "        text-align: right;\n",
       "    }\n",
       "</style>\n",
       "<table border=\"1\" class=\"dataframe\">\n",
       "  <thead>\n",
       "    <tr style=\"text-align: right;\">\n",
       "      <th></th>\n",
       "      <th>src_bytes</th>\n",
       "      <th>count</th>\n",
       "      <th>service</th>\n",
       "      <th>srv_count</th>\n",
       "      <th>protocol_type</th>\n",
       "      <th>diff_srv_rate</th>\n",
       "      <th>same_srv_rate</th>\n",
       "      <th>flag</th>\n",
       "      <th>dst_bytes</th>\n",
       "      <th>srv_serror_rate</th>\n",
       "      <th>logged_in</th>\n",
       "      <th>duration</th>\n",
       "      <th>lnum_compromised</th>\n",
       "      <th>wrong_fragment</th>\n",
       "      <th>is_guest_login</th>\n",
       "      <th>num_failed_logins</th>\n",
       "      <th>attack_types</th>\n",
       "      <th>label</th>\n",
       "    </tr>\n",
       "  </thead>\n",
       "  <tbody>\n",
       "    <tr>\n",
       "      <th>0</th>\n",
       "      <td>181</td>\n",
       "      <td>8</td>\n",
       "      <td>22</td>\n",
       "      <td>8</td>\n",
       "      <td>1</td>\n",
       "      <td>0.0</td>\n",
       "      <td>1.0</td>\n",
       "      <td>9</td>\n",
       "      <td>5450</td>\n",
       "      <td>0.00</td>\n",
       "      <td>1</td>\n",
       "      <td>0</td>\n",
       "      <td>0</td>\n",
       "      <td>0</td>\n",
       "      <td>0</td>\n",
       "      <td>0</td>\n",
       "      <td>normal</td>\n",
       "      <td>0</td>\n",
       "    </tr>\n",
       "    <tr>\n",
       "      <th>1</th>\n",
       "      <td>239</td>\n",
       "      <td>8</td>\n",
       "      <td>22</td>\n",
       "      <td>8</td>\n",
       "      <td>1</td>\n",
       "      <td>0.0</td>\n",
       "      <td>1.0</td>\n",
       "      <td>9</td>\n",
       "      <td>486</td>\n",
       "      <td>0.00</td>\n",
       "      <td>1</td>\n",
       "      <td>0</td>\n",
       "      <td>0</td>\n",
       "      <td>0</td>\n",
       "      <td>0</td>\n",
       "      <td>0</td>\n",
       "      <td>normal</td>\n",
       "      <td>0</td>\n",
       "    </tr>\n",
       "    <tr>\n",
       "      <th>2</th>\n",
       "      <td>235</td>\n",
       "      <td>8</td>\n",
       "      <td>22</td>\n",
       "      <td>8</td>\n",
       "      <td>1</td>\n",
       "      <td>0.0</td>\n",
       "      <td>1.0</td>\n",
       "      <td>9</td>\n",
       "      <td>1337</td>\n",
       "      <td>0.00</td>\n",
       "      <td>1</td>\n",
       "      <td>0</td>\n",
       "      <td>0</td>\n",
       "      <td>0</td>\n",
       "      <td>0</td>\n",
       "      <td>0</td>\n",
       "      <td>normal</td>\n",
       "      <td>0</td>\n",
       "    </tr>\n",
       "    <tr>\n",
       "      <th>3</th>\n",
       "      <td>219</td>\n",
       "      <td>6</td>\n",
       "      <td>22</td>\n",
       "      <td>6</td>\n",
       "      <td>1</td>\n",
       "      <td>0.0</td>\n",
       "      <td>1.0</td>\n",
       "      <td>9</td>\n",
       "      <td>1337</td>\n",
       "      <td>0.00</td>\n",
       "      <td>1</td>\n",
       "      <td>0</td>\n",
       "      <td>0</td>\n",
       "      <td>0</td>\n",
       "      <td>0</td>\n",
       "      <td>0</td>\n",
       "      <td>normal</td>\n",
       "      <td>0</td>\n",
       "    </tr>\n",
       "    <tr>\n",
       "      <th>4</th>\n",
       "      <td>217</td>\n",
       "      <td>6</td>\n",
       "      <td>22</td>\n",
       "      <td>6</td>\n",
       "      <td>1</td>\n",
       "      <td>0.0</td>\n",
       "      <td>1.0</td>\n",
       "      <td>9</td>\n",
       "      <td>2032</td>\n",
       "      <td>0.00</td>\n",
       "      <td>1</td>\n",
       "      <td>0</td>\n",
       "      <td>0</td>\n",
       "      <td>0</td>\n",
       "      <td>0</td>\n",
       "      <td>0</td>\n",
       "      <td>normal</td>\n",
       "      <td>0</td>\n",
       "    </tr>\n",
       "    <tr>\n",
       "      <th>...</th>\n",
       "      <td>...</td>\n",
       "      <td>...</td>\n",
       "      <td>...</td>\n",
       "      <td>...</td>\n",
       "      <td>...</td>\n",
       "      <td>...</td>\n",
       "      <td>...</td>\n",
       "      <td>...</td>\n",
       "      <td>...</td>\n",
       "      <td>...</td>\n",
       "      <td>...</td>\n",
       "      <td>...</td>\n",
       "      <td>...</td>\n",
       "      <td>...</td>\n",
       "      <td>...</td>\n",
       "      <td>...</td>\n",
       "      <td>...</td>\n",
       "      <td>...</td>\n",
       "    </tr>\n",
       "    <tr>\n",
       "      <th>99469</th>\n",
       "      <td>310</td>\n",
       "      <td>4</td>\n",
       "      <td>22</td>\n",
       "      <td>5</td>\n",
       "      <td>1</td>\n",
       "      <td>0.0</td>\n",
       "      <td>1.0</td>\n",
       "      <td>9</td>\n",
       "      <td>1881</td>\n",
       "      <td>0.00</td>\n",
       "      <td>1</td>\n",
       "      <td>0</td>\n",
       "      <td>0</td>\n",
       "      <td>0</td>\n",
       "      <td>0</td>\n",
       "      <td>0</td>\n",
       "      <td>normal</td>\n",
       "      <td>0</td>\n",
       "    </tr>\n",
       "    <tr>\n",
       "      <th>99470</th>\n",
       "      <td>282</td>\n",
       "      <td>6</td>\n",
       "      <td>22</td>\n",
       "      <td>6</td>\n",
       "      <td>1</td>\n",
       "      <td>0.0</td>\n",
       "      <td>1.0</td>\n",
       "      <td>9</td>\n",
       "      <td>2286</td>\n",
       "      <td>0.00</td>\n",
       "      <td>1</td>\n",
       "      <td>0</td>\n",
       "      <td>0</td>\n",
       "      <td>0</td>\n",
       "      <td>0</td>\n",
       "      <td>0</td>\n",
       "      <td>normal</td>\n",
       "      <td>0</td>\n",
       "    </tr>\n",
       "    <tr>\n",
       "      <th>99471</th>\n",
       "      <td>203</td>\n",
       "      <td>6</td>\n",
       "      <td>22</td>\n",
       "      <td>18</td>\n",
       "      <td>1</td>\n",
       "      <td>0.0</td>\n",
       "      <td>1.0</td>\n",
       "      <td>9</td>\n",
       "      <td>1200</td>\n",
       "      <td>0.11</td>\n",
       "      <td>1</td>\n",
       "      <td>0</td>\n",
       "      <td>0</td>\n",
       "      <td>0</td>\n",
       "      <td>0</td>\n",
       "      <td>0</td>\n",
       "      <td>normal</td>\n",
       "      <td>0</td>\n",
       "    </tr>\n",
       "    <tr>\n",
       "      <th>99472</th>\n",
       "      <td>291</td>\n",
       "      <td>6</td>\n",
       "      <td>22</td>\n",
       "      <td>12</td>\n",
       "      <td>1</td>\n",
       "      <td>0.0</td>\n",
       "      <td>1.0</td>\n",
       "      <td>9</td>\n",
       "      <td>1200</td>\n",
       "      <td>0.00</td>\n",
       "      <td>1</td>\n",
       "      <td>0</td>\n",
       "      <td>0</td>\n",
       "      <td>0</td>\n",
       "      <td>0</td>\n",
       "      <td>0</td>\n",
       "      <td>normal</td>\n",
       "      <td>0</td>\n",
       "    </tr>\n",
       "    <tr>\n",
       "      <th>99473</th>\n",
       "      <td>219</td>\n",
       "      <td>6</td>\n",
       "      <td>22</td>\n",
       "      <td>35</td>\n",
       "      <td>1</td>\n",
       "      <td>0.0</td>\n",
       "      <td>1.0</td>\n",
       "      <td>9</td>\n",
       "      <td>1234</td>\n",
       "      <td>0.00</td>\n",
       "      <td>1</td>\n",
       "      <td>0</td>\n",
       "      <td>0</td>\n",
       "      <td>0</td>\n",
       "      <td>0</td>\n",
       "      <td>0</td>\n",
       "      <td>normal</td>\n",
       "      <td>0</td>\n",
       "    </tr>\n",
       "  </tbody>\n",
       "</table>\n",
       "<p>99474 rows × 18 columns</p>\n",
       "</div>"
      ],
      "text/plain": [
       "       src_bytes  count  service  srv_count  protocol_type  diff_srv_rate  \\\n",
       "0            181      8       22          8              1            0.0   \n",
       "1            239      8       22          8              1            0.0   \n",
       "2            235      8       22          8              1            0.0   \n",
       "3            219      6       22          6              1            0.0   \n",
       "4            217      6       22          6              1            0.0   \n",
       "...          ...    ...      ...        ...            ...            ...   \n",
       "99469        310      4       22          5              1            0.0   \n",
       "99470        282      6       22          6              1            0.0   \n",
       "99471        203      6       22         18              1            0.0   \n",
       "99472        291      6       22         12              1            0.0   \n",
       "99473        219      6       22         35              1            0.0   \n",
       "\n",
       "       same_srv_rate  flag  dst_bytes  srv_serror_rate  logged_in  duration  \\\n",
       "0                1.0     9       5450             0.00          1         0   \n",
       "1                1.0     9        486             0.00          1         0   \n",
       "2                1.0     9       1337             0.00          1         0   \n",
       "3                1.0     9       1337             0.00          1         0   \n",
       "4                1.0     9       2032             0.00          1         0   \n",
       "...              ...   ...        ...              ...        ...       ...   \n",
       "99469            1.0     9       1881             0.00          1         0   \n",
       "99470            1.0     9       2286             0.00          1         0   \n",
       "99471            1.0     9       1200             0.11          1         0   \n",
       "99472            1.0     9       1200             0.00          1         0   \n",
       "99473            1.0     9       1234             0.00          1         0   \n",
       "\n",
       "       lnum_compromised  wrong_fragment  is_guest_login  num_failed_logins  \\\n",
       "0                     0               0               0                  0   \n",
       "1                     0               0               0                  0   \n",
       "2                     0               0               0                  0   \n",
       "3                     0               0               0                  0   \n",
       "4                     0               0               0                  0   \n",
       "...                 ...             ...             ...                ...   \n",
       "99469                 0               0               0                  0   \n",
       "99470                 0               0               0                  0   \n",
       "99471                 0               0               0                  0   \n",
       "99472                 0               0               0                  0   \n",
       "99473                 0               0               0                  0   \n",
       "\n",
       "      attack_types  label  \n",
       "0           normal      0  \n",
       "1           normal      0  \n",
       "2           normal      0  \n",
       "3           normal      0  \n",
       "4           normal      0  \n",
       "...            ...    ...  \n",
       "99469       normal      0  \n",
       "99470       normal      0  \n",
       "99471       normal      0  \n",
       "99472       normal      0  \n",
       "99473       normal      0  \n",
       "\n",
       "[99474 rows x 18 columns]"
      ]
     },
     "execution_count": 2,
     "metadata": {},
     "output_type": "execute_result"
    }
   ],
   "source": [
    "df = pd.read_csv('Training_data_preprocessed.csv')\n",
    "df"
   ]
  },
  {
   "cell_type": "code",
   "execution_count": 3,
   "id": "a47423b5",
   "metadata": {},
   "outputs": [],
   "source": [
    "# X=df.drop(['label_DoS','label_Normal','label_Probe','label_U2R','label_R2L','attack_types'],axis=1)\n",
    "X=df.drop(['attack_types','label'],axis=1)\n",
    "Y=df['label']\n",
    "# Y=df[['label_Normal','label_DoS','label_Probe','label_R2L','label_U2R']]\n",
    "from sklearn.model_selection import train_test_split\n",
    "X_train,X_test,y_train,y_test=train_test_split(X,Y,test_size=0.2,random_state=42)"
   ]
  },
  {
   "cell_type": "code",
   "execution_count": 4,
   "id": "a1930af5",
   "metadata": {},
   "outputs": [],
   "source": [
    "gb = GradientBoostingRegressor(n_estimators=100, learning_rate=0.1, random_state=42)"
   ]
  },
  {
   "cell_type": "code",
   "execution_count": 5,
   "id": "68001f07",
   "metadata": {},
   "outputs": [
    {
     "data": {
      "text/plain": [
       "GradientBoostingRegressor(random_state=42)"
      ]
     },
     "execution_count": 5,
     "metadata": {},
     "output_type": "execute_result"
    }
   ],
   "source": [
    "gb.fit(X_train, y_train)"
   ]
  },
  {
   "cell_type": "code",
   "execution_count": 6,
   "id": "7c0064e1",
   "metadata": {},
   "outputs": [],
   "source": [
    "train_loss = np.zeros((100,))\n",
    "val_loss = np.zeros((100,))\n",
    "for i, y_pred in enumerate(gb.staged_predict(X_train)):\n",
    "    train_loss[i] = np.mean((y_train - y_pred) ** 2)\n",
    "for i, y_pred in enumerate(gb.staged_predict(X_test)):\n",
    "    val_loss[i] = np.mean((y_test - y_pred) ** 2)"
   ]
  },
  {
   "cell_type": "code",
   "execution_count": 7,
   "id": "72ef07a8",
   "metadata": {},
   "outputs": [
    {
     "data": {
      "image/png": "[encoded data removed]",
      "text/plain": [
       "<Figure size 432x288 with 1 Axes>"
      ]
     },
     "metadata": {
      "needs_background": "light"
     },
     "output_type": "display_data"
    }
   ],
   "source": [
    "plt.plot(np.arange(1, 101), train_loss, label='Train Loss')\n",
    "plt.plot(np.arange(1, 101), val_loss, label='Validation Loss')\n",
    "plt.title(\"Loss graph of 'Gradient Boosting'\")\n",
    "plt.xlabel('Number of iterations')\n",
    "plt.ylabel('Mean Squared Error')\n",
    "plt.legend()\n",
    "plt.savefig('image/GB Loss graph.png',dpi=600, bbox_inches='tight')\n",
    "plt.show()"
   ]
  },
  {
   "cell_type": "code",
   "execution_count": 9,
   "id": "93fbea27",
   "metadata": {},
   "outputs": [],
   "source": [
    "from sklearn.linear_model import LogisticRegression\n",
    "logreg = LogisticRegression(solver='lbfgs', max_iter=1200000)"
   ]
  },
  {
   "cell_type": "code",
   "execution_count": 10,
   "id": "5383afd0",
   "metadata": {},
   "outputs": [
    {
     "name": "stderr",
     "output_type": "stream",
     "text": [
      "C:\\Users\\yubra\\anaconda3\\lib\\site-packages\\sklearn\\linear_model\\_logistic.py:814: ConvergenceWarning: lbfgs failed to converge (status=2):\n",
      "ABNORMAL_TERMINATION_IN_LNSRCH.\n",
      "\n",
      "Increase the number of iterations (max_iter) or scale the data as shown in:\n",
      "    https://scikit-learn.org/stable/modules/preprocessing.html\n",
      "Please also refer to the documentation for alternative solver options:\n",
      "    https://scikit-learn.org/stable/modules/linear_model.html#logistic-regression\n",
      "  n_iter_i = _check_optimize_result(\n"
     ]
    },
    {
     "data": {
      "text/plain": [
       "LogisticRegression(max_iter=1200000)"
      ]
     },
     "execution_count": 10,
     "metadata": {},
     "output_type": "execute_result"
    }
   ],
   "source": [
    "logreg.fit(X_train, y_train)"
   ]
  },
  {
   "cell_type": "code",
   "execution_count": 12,
   "id": "1046d7ed",
   "metadata": {},
   "outputs": [
    {
     "ename": "IndexError",
     "evalue": "index 100 is out of bounds for axis 0 with size 100",
     "output_type": "error",
     "traceback": [
      "\u001b[1;31m---------------------------------------------------------------------------\u001b[0m",
      "\u001b[1;31mIndexError\u001b[0m                                Traceback (most recent call last)",
      "Input \u001b[1;32mIn [12]\u001b[0m, in \u001b[0;36m<cell line: 3>\u001b[1;34m()\u001b[0m\n\u001b[0;32m      2\u001b[0m val_loss \u001b[38;5;241m=\u001b[39m np\u001b[38;5;241m.\u001b[39mzeros((\u001b[38;5;241m100\u001b[39m,))\n\u001b[0;32m      3\u001b[0m \u001b[38;5;28;01mfor\u001b[39;00m i, y_pred \u001b[38;5;129;01min\u001b[39;00m \u001b[38;5;28menumerate\u001b[39m(logreg\u001b[38;5;241m.\u001b[39mpredict(X_train)):\n\u001b[1;32m----> 4\u001b[0m     train_loss[i] \u001b[38;5;241m=\u001b[39m np\u001b[38;5;241m.\u001b[39mmean((y_train \u001b[38;5;241m-\u001b[39m y_pred) \u001b[38;5;241m*\u001b[39m\u001b[38;5;241m*\u001b[39m \u001b[38;5;241m2\u001b[39m)\n\u001b[0;32m      5\u001b[0m \u001b[38;5;28;01mfor\u001b[39;00m i, y_pred \u001b[38;5;129;01min\u001b[39;00m \u001b[38;5;28menumerate\u001b[39m(logreg\u001b[38;5;241m.\u001b[39mpredict(X_test)):\n\u001b[0;32m      6\u001b[0m     val_loss[i] \u001b[38;5;241m=\u001b[39m np\u001b[38;5;241m.\u001b[39mmean((y_test \u001b[38;5;241m-\u001b[39m y_pred) \u001b[38;5;241m*\u001b[39m\u001b[38;5;241m*\u001b[39m \u001b[38;5;241m2\u001b[39m)\n",
      "\u001b[1;31mIndexError\u001b[0m: index 100 is out of bounds for axis 0 with size 100"
     ]
    }
   ],
   "source": [
    "train_loss = np.zeros((100,))\n",
    "val_loss = np.zeros((100,))\n",
    "for i, y_pred in enumerate(logreg.predict(X_train)):\n",
    "    train_loss[i] = np.mean((y_train - y_pred) ** 2)\n",
    "for i, y_pred in enumerate(logreg.predict(X_test)):\n",
    "    val_loss[i] = np.mean((y_test - y_pred) ** 2)"
   ]
  },
  {
   "cell_type": "code",
   "execution_count": null,
   "id": "cd0f9152",
   "metadata": {},
   "outputs": [],
   "source": [
    "plt.plot(np.arange(1, 101), train_loss, label='Train Loss')\n",
    "plt.plot(np.arange(1, 101), val_loss, label='Validation Loss')\n",
    "plt.title(\"Loss graph of 'Gradient Boosting'\")\n",
    "plt.xlabel('Number of iterations')\n",
    "plt.ylabel('Mean Squared Error')\n",
    "plt.legend()\n",
    "plt.savefig('image/GB Loss graph.png',dpi=600, bbox_inches='tight')\n",
    "plt.show()"
   ]
  },
  {
   "cell_type": "code",
   "execution_count": null,
   "id": "06797c36",
   "metadata": {},
   "outputs": [],
   "source": []
  },
  {
   "cell_type": "code",
   "execution_count": 8,
   "id": "03c2e43f",
   "metadata": {},
   "outputs": [],
   "source": [
    "from sklearn.linear_model import LogisticRegression\n",
    "logreg = LogisticRegression(solver='lbfgs', max_iter=1000, random_state=42)"
   ]
  },
  {
   "cell_type": "code",
   "execution_count": null,
   "id": "625015d2",
   "metadata": {},
   "outputs": [],
   "source": []
  },
  {
   "cell_type": "code",
   "execution_count": null,
   "id": "e744985b",
   "metadata": {},
   "outputs": [],
   "source": [
    "train_loss = np.zeros((1000,))\n",
    "val_loss = np.zeros((1000,))\n",
    "for i in range(1000):\n",
    "    logreg.set_params(max_iter=(i+1)*100)\n",
    "    logreg.fit(X_train, y_train)\n",
    "    y_pred_train = logreg.predict_proba(X_train)[:, 1]\n",
    "    y_pred_val = logreg.predict_proba(X_test)[:, 1]\n",
    "    train_loss[i] = -np.mean(y_train * np.log(y_pred_train) + (1 - y_train) * np.log(1 - y_pred_train))\n",
    "    val_loss[i] = -np.mean(y_test * np.log(y_pred_val) + (1 - y_test) * np.log(1 - y_pred_val))"
   ]
  },
  {
   "cell_type": "code",
   "execution_count": null,
   "id": "d4d3e98f",
   "metadata": {},
   "outputs": [],
   "source": [
    "from sklearn.ensemble import AdaBoostClassifier\n",
    "from sklearn.tree import DecisionTreeClassifier"
   ]
  },
  {
   "cell_type": "code",
   "execution_count": null,
   "id": "b3884cd6",
   "metadata": {},
   "outputs": [],
   "source": [
    "ada = AdaBoostClassifier(DecisionTreeClassifier(max_depth=1), n_estimators=100)"
   ]
  },
  {
   "cell_type": "code",
   "execution_count": null,
   "id": "e9fa7a06",
   "metadata": {},
   "outputs": [],
   "source": [
    "\n",
    "train_loss = np.zeros((100,))\n",
    "val_loss = np.zeros((100,))\n",
    "for i in range(100):\n",
    "    ada.fit(X_train, y_train)\n",
    "    y_pred_train = ada.predict(X_train)\n",
    "    y_pred_val = ada.predict(X_test)\n",
    "    train_loss[i] = np.mean(np.exp(-y_train * ada.decision_function(X_train)))\n",
    "    val_loss[i] = np.mean(np.exp(-y_test * ada.decision_function(X_test)))"
   ]
  },
  {
   "cell_type": "code",
   "execution_count": null,
   "id": "90f1034c",
   "metadata": {},
   "outputs": [],
   "source": [
    "plt.plot(np.arange(1, 101), train_loss, label='Train Loss')\n",
    "plt.plot(np.arange(1, 101), val_loss, label='Validation Loss')\n",
    "plt.xlabel('Number of iterations')\n",
    "plt.ylabel('Exponential loss')\n",
    "plt.legend()\n",
    "plt.show()"
   ]
  },
  {
   "cell_type": "code",
   "execution_count": 10,
   "id": "f0a8ff24",
   "metadata": {},
   "outputs": [
    {
     "name": "stdout",
     "output_type": "stream",
     "text": [
      "Collecting tdqm\n",
      "  Downloading tdqm-0.0.1.tar.gz (1.4 kB)\n",
      "Requirement already satisfied: tqdm in c:\\users\\yubra\\anaconda3\\lib\\site-packages (from tdqm) (4.64.0)\n",
      "Requirement already satisfied: colorama in c:\\users\\yubra\\anaconda3\\lib\\site-packages (from tqdm->tdqm) (0.4.4)\n",
      "Building wheels for collected packages: tdqm\n",
      "  Building wheel for tdqm (setup.py): started\n",
      "  Building wheel for tdqm (setup.py): finished with status 'done'\n",
      "  Created wheel for tdqm: filename=tdqm-0.0.1-py3-none-any.whl size=1319 sha256=5bb91ecfa0a75e3102bd5a6513222cef4c5d72c57d51ab5916959b495f60383a\n",
      "  Stored in directory: c:\\users\\yubra\\appdata\\local\\pip\\cache\\wheels\\cf\\cf\\87\\969aabe5f7efa9beb7f0de846653f5cbf36bafe358451132df\n",
      "Successfully built tdqm\n",
      "Installing collected packages: tdqm\n",
      "Successfully installed tdqm-0.0.1\n"
     ]
    }
   ],
   "source": [
    "!pip install tdqm"
   ]
  },
  {
   "cell_type": "code",
   "execution_count": 12,
   "id": "a9335e11",
   "metadata": {},
   "outputs": [],
   "source": [
    "from sklearn import svm\n",
    "# from tqdm import tdqm"
   ]
  },
  {
   "cell_type": "code",
   "execution_count": 13,
   "id": "1db3093e",
   "metadata": {},
   "outputs": [],
   "source": [
    "clf = svm.SVC(kernel='linear')"
   ]
  },
  {
   "cell_type": "code",
   "execution_count": null,
   "id": "ae299fe8",
   "metadata": {},
   "outputs": [],
   "source": [
    "loss = []\n",
    "for i in range(1, 11):\n",
    "    clf.fit(X_train, y_train)\n",
    "    loss.append(clf.score(X_val, y_val))"
   ]
  },
  {
   "cell_type": "code",
   "execution_count": null,
   "id": "ae98395a",
   "metadata": {},
   "outputs": [],
   "source": [
    "plt.plot(range(1, 11), loss)\n",
    "plt.xlabel('Number of iterations')\n",
    "plt.ylabel('Accuracy')\n",
    "plt.title('Accuracy vs. number of iterations')\n",
    "plt.show()"
   ]
  },
  {
   "cell_type": "code",
   "execution_count": 13,
   "id": "e635fce4",
   "metadata": {},
   "outputs": [
    {
     "ename": "KeyError",
     "evalue": "\"None of [Int64Index([79311, 75450, 23217,   872, 60843, 78720,  8868, 36955, 52893,\\n            39934,\\n            ...\\n            66719, 53810, 28219, 76032, 66738, 26231, 56293, 70999, 42553,\\n            22833],\\n           dtype='int64', length=79579)] are in the [columns]\"",
     "output_type": "error",
     "traceback": [
      "\u001b[1;31m---------------------------------------------------------------------------\u001b[0m",
      "\u001b[1;31mKeyError\u001b[0m                                  Traceback (most recent call last)",
      "Input \u001b[1;32mIn [13]\u001b[0m, in \u001b[0;36m<cell line: 25>\u001b[1;34m()\u001b[0m\n\u001b[0;32m     25\u001b[0m \u001b[38;5;28;01mfor\u001b[39;00m epoch \u001b[38;5;129;01min\u001b[39;00m \u001b[38;5;28mrange\u001b[39m(n_epochs):\n\u001b[0;32m     26\u001b[0m \n\u001b[0;32m     27\u001b[0m     \u001b[38;5;66;03m# Shuffle the training data\u001b[39;00m\n\u001b[0;32m     28\u001b[0m     indices \u001b[38;5;241m=\u001b[39m np\u001b[38;5;241m.\u001b[39mrandom\u001b[38;5;241m.\u001b[39mpermutation(\u001b[38;5;28mlen\u001b[39m(X_train))\n\u001b[1;32m---> 29\u001b[0m     X_train_shuffled \u001b[38;5;241m=\u001b[39m \u001b[43mX_train\u001b[49m\u001b[43m[\u001b[49m\u001b[43mindices\u001b[49m\u001b[43m]\u001b[49m\n\u001b[0;32m     30\u001b[0m     y_train_shuffled \u001b[38;5;241m=\u001b[39m y_train[indices]\n\u001b[0;32m     32\u001b[0m     \u001b[38;5;66;03m# Iterate over the batches of data\u001b[39;00m\n",
      "File \u001b[1;32m~\\anaconda3\\lib\\site-packages\\pandas\\core\\frame.py:3511\u001b[0m, in \u001b[0;36mDataFrame.__getitem__\u001b[1;34m(self, key)\u001b[0m\n\u001b[0;32m   3509\u001b[0m     \u001b[38;5;28;01mif\u001b[39;00m is_iterator(key):\n\u001b[0;32m   3510\u001b[0m         key \u001b[38;5;241m=\u001b[39m \u001b[38;5;28mlist\u001b[39m(key)\n\u001b[1;32m-> 3511\u001b[0m     indexer \u001b[38;5;241m=\u001b[39m \u001b[38;5;28;43mself\u001b[39;49m\u001b[38;5;241;43m.\u001b[39;49m\u001b[43mcolumns\u001b[49m\u001b[38;5;241;43m.\u001b[39;49m\u001b[43m_get_indexer_strict\u001b[49m\u001b[43m(\u001b[49m\u001b[43mkey\u001b[49m\u001b[43m,\u001b[49m\u001b[43m \u001b[49m\u001b[38;5;124;43m\"\u001b[39;49m\u001b[38;5;124;43mcolumns\u001b[39;49m\u001b[38;5;124;43m\"\u001b[39;49m\u001b[43m)\u001b[49m[\u001b[38;5;241m1\u001b[39m]\n\u001b[0;32m   3513\u001b[0m \u001b[38;5;66;03m# take() does not accept boolean indexers\u001b[39;00m\n\u001b[0;32m   3514\u001b[0m \u001b[38;5;28;01mif\u001b[39;00m \u001b[38;5;28mgetattr\u001b[39m(indexer, \u001b[38;5;124m\"\u001b[39m\u001b[38;5;124mdtype\u001b[39m\u001b[38;5;124m\"\u001b[39m, \u001b[38;5;28;01mNone\u001b[39;00m) \u001b[38;5;241m==\u001b[39m \u001b[38;5;28mbool\u001b[39m:\n",
      "File \u001b[1;32m~\\anaconda3\\lib\\site-packages\\pandas\\core\\indexes\\base.py:5782\u001b[0m, in \u001b[0;36mIndex._get_indexer_strict\u001b[1;34m(self, key, axis_name)\u001b[0m\n\u001b[0;32m   5779\u001b[0m \u001b[38;5;28;01melse\u001b[39;00m:\n\u001b[0;32m   5780\u001b[0m     keyarr, indexer, new_indexer \u001b[38;5;241m=\u001b[39m \u001b[38;5;28mself\u001b[39m\u001b[38;5;241m.\u001b[39m_reindex_non_unique(keyarr)\n\u001b[1;32m-> 5782\u001b[0m \u001b[38;5;28;43mself\u001b[39;49m\u001b[38;5;241;43m.\u001b[39;49m\u001b[43m_raise_if_missing\u001b[49m\u001b[43m(\u001b[49m\u001b[43mkeyarr\u001b[49m\u001b[43m,\u001b[49m\u001b[43m \u001b[49m\u001b[43mindexer\u001b[49m\u001b[43m,\u001b[49m\u001b[43m \u001b[49m\u001b[43maxis_name\u001b[49m\u001b[43m)\u001b[49m\n\u001b[0;32m   5784\u001b[0m keyarr \u001b[38;5;241m=\u001b[39m \u001b[38;5;28mself\u001b[39m\u001b[38;5;241m.\u001b[39mtake(indexer)\n\u001b[0;32m   5785\u001b[0m \u001b[38;5;28;01mif\u001b[39;00m \u001b[38;5;28misinstance\u001b[39m(key, Index):\n\u001b[0;32m   5786\u001b[0m     \u001b[38;5;66;03m# GH 42790 - Preserve name from an Index\u001b[39;00m\n",
      "File \u001b[1;32m~\\anaconda3\\lib\\site-packages\\pandas\\core\\indexes\\base.py:5842\u001b[0m, in \u001b[0;36mIndex._raise_if_missing\u001b[1;34m(self, key, indexer, axis_name)\u001b[0m\n\u001b[0;32m   5840\u001b[0m     \u001b[38;5;28;01mif\u001b[39;00m use_interval_msg:\n\u001b[0;32m   5841\u001b[0m         key \u001b[38;5;241m=\u001b[39m \u001b[38;5;28mlist\u001b[39m(key)\n\u001b[1;32m-> 5842\u001b[0m     \u001b[38;5;28;01mraise\u001b[39;00m \u001b[38;5;167;01mKeyError\u001b[39;00m(\u001b[38;5;124mf\u001b[39m\u001b[38;5;124m\"\u001b[39m\u001b[38;5;124mNone of [\u001b[39m\u001b[38;5;132;01m{\u001b[39;00mkey\u001b[38;5;132;01m}\u001b[39;00m\u001b[38;5;124m] are in the [\u001b[39m\u001b[38;5;132;01m{\u001b[39;00maxis_name\u001b[38;5;132;01m}\u001b[39;00m\u001b[38;5;124m]\u001b[39m\u001b[38;5;124m\"\u001b[39m)\n\u001b[0;32m   5844\u001b[0m not_found \u001b[38;5;241m=\u001b[39m \u001b[38;5;28mlist\u001b[39m(ensure_index(key)[missing_mask\u001b[38;5;241m.\u001b[39mnonzero()[\u001b[38;5;241m0\u001b[39m]]\u001b[38;5;241m.\u001b[39munique())\n\u001b[0;32m   5845\u001b[0m \u001b[38;5;28;01mraise\u001b[39;00m \u001b[38;5;167;01mKeyError\u001b[39;00m(\u001b[38;5;124mf\u001b[39m\u001b[38;5;124m\"\u001b[39m\u001b[38;5;132;01m{\u001b[39;00mnot_found\u001b[38;5;132;01m}\u001b[39;00m\u001b[38;5;124m not in index\u001b[39m\u001b[38;5;124m\"\u001b[39m)\n",
      "\u001b[1;31mKeyError\u001b[0m: \"None of [Int64Index([79311, 75450, 23217,   872, 60843, 78720,  8868, 36955, 52893,\\n            39934,\\n            ...\\n            66719, 53810, 28219, 76032, 66738, 26231, 56293, 70999, 42553,\\n            22833],\\n           dtype='int64', length=79579)] are in the [columns]\""
     ]
    }
   ],
   "source": [
    "from sklearn.linear_model import LogisticRegression\n",
    "from sklearn.metrics import mean_squared_error\n",
    "from sklearn.datasets import make_classification\n",
    "from sklearn.model_selection import train_test_split\n",
    "import matplotlib.pyplot as plt\n",
    "\n",
    "# Generate a toy binary classification dataset\n",
    "# X, y = make_classification(n_samples=1000, n_features=10, random_state=42)\n",
    "\n",
    "# Split the dataset into training and testing sets\n",
    "# X_train, X_test, y_train, y_test = train_test_split(X, y, test_size=0.3, random_state=42)\n",
    "\n",
    "# Initialize a logistic regression model\n",
    "lr = LogisticRegression()\n",
    "\n",
    "# Initialize empty lists to store the training and validation loss values\n",
    "train_losses = []\n",
    "val_losses = []\n",
    "\n",
    "# Define the number of epochs and the batch size\n",
    "n_epochs = 50\n",
    "batch_size = 32\n",
    "\n",
    "# Iterate over the number of epochs\n",
    "for epoch in range(n_epochs):\n",
    "\n",
    "    # Shuffle the training data\n",
    "    indices = np.random.permutation(len(X_train))\n",
    "    X_train_shuffled = X_train[indices]\n",
    "    y_train_shuffled = y_train[indices]\n",
    "\n",
    "    # Iterate over the batches of data\n",
    "    for i in range(0, len(X_train), batch_size):\n",
    "\n",
    "        # Select the batch of data\n",
    "        X_batch = X_train_shuffled[i:i+batch_size]\n",
    "        y_batch = y_train_shuffled[i:i+batch_size]\n",
    "\n",
    "        # Fit the model to the batch of data\n",
    "        lr.fit(X_batch, y_batch)\n",
    "\n",
    "    # Calculate the training loss\n",
    "    y_pred_train = lr.predict(X_train)\n",
    "    train_loss = mean_squared_error(y_train, y_pred_train)\n",
    "    train_losses.append(train_loss)\n",
    "\n",
    "    # Calculate the validation loss\n",
    "    y_pred_val = lr.predict(X_test)\n",
    "    val_loss = mean_squared_error(y_test, y_pred_val)\n",
    "    val_losses.append(val_loss)\n",
    "\n",
    "    # Print the loss values for each epoch\n",
    "    print(f\"Epoch {epoch+1}/{n_epochs} - Train loss: {train_loss:.4f} - Val loss: {val_loss:.4f}\")\n",
    "\n",
    "# Plot the training and validation loss values\n",
    "plt.plot(train_losses, label='Training Loss')\n",
    "plt.plot(val_losses, label='Validation Loss')\n",
    "plt.xlabel('Epochs')\n",
    "plt.ylabel('Mean Squared Error')\n",
    "plt.legend()\n",
    "plt.show()\n"
   ]
  },
  {
   "cell_type": "code",
   "execution_count": 40,
   "id": "aebdc099",
   "metadata": {},
   "outputs": [
    {
     "name": "stdout",
     "output_type": "stream",
     "text": [
      "Tree 1/50 - Train loss: 0.0010 - Val loss: 0.0080\n",
      "Tree 2/50 - Train loss: 0.0009 - Val loss: 0.0080\n",
      "Tree 3/50 - Train loss: 0.0009 - Val loss: 0.0081\n",
      "Tree 4/50 - Train loss: 0.0010 - Val loss: 0.0080\n",
      "Tree 5/50 - Train loss: 0.0009 - Val loss: 0.0080\n",
      "Tree 6/50 - Train loss: 0.0010 - Val loss: 0.0082\n",
      "Tree 7/50 - Train loss: 0.0009 - Val loss: 0.0080\n",
      "Tree 8/50 - Train loss: 0.0009 - Val loss: 0.0080\n",
      "Tree 9/50 - Train loss: 0.0009 - Val loss: 0.0080\n",
      "Tree 10/50 - Train loss: 0.0009 - Val loss: 0.0081\n",
      "Tree 11/50 - Train loss: 0.0009 - Val loss: 0.0080\n",
      "Tree 12/50 - Train loss: 0.0009 - Val loss: 0.0081\n",
      "Tree 13/50 - Train loss: 0.0009 - Val loss: 0.0081\n",
      "Tree 14/50 - Train loss: 0.0010 - Val loss: 0.0079\n",
      "Tree 15/50 - Train loss: 0.0009 - Val loss: 0.0080\n",
      "Tree 16/50 - Train loss: 0.0009 - Val loss: 0.0080\n",
      "Tree 17/50 - Train loss: 0.0009 - Val loss: 0.0080\n",
      "Tree 18/50 - Train loss: 0.0010 - Val loss: 0.0080\n",
      "Tree 19/50 - Train loss: 0.0009 - Val loss: 0.0081\n",
      "Tree 20/50 - Train loss: 0.0009 - Val loss: 0.0081\n",
      "Tree 21/50 - Train loss: 0.0009 - Val loss: 0.0082\n",
      "Tree 22/50 - Train loss: 0.0009 - Val loss: 0.0080\n",
      "Tree 23/50 - Train loss: 0.0009 - Val loss: 0.0081\n",
      "Tree 24/50 - Train loss: 0.0009 - Val loss: 0.0079\n",
      "Tree 25/50 - Train loss: 0.0010 - Val loss: 0.0081\n",
      "Tree 26/50 - Train loss: 0.0009 - Val loss: 0.0079\n",
      "Tree 27/50 - Train loss: 0.0009 - Val loss: 0.0079\n",
      "Tree 28/50 - Train loss: 0.0009 - Val loss: 0.0081\n",
      "Tree 29/50 - Train loss: 0.0009 - Val loss: 0.0080\n",
      "Tree 30/50 - Train loss: 0.0009 - Val loss: 0.0079\n",
      "Tree 31/50 - Train loss: 0.0009 - Val loss: 0.0081\n",
      "Tree 32/50 - Train loss: 0.0009 - Val loss: 0.0082\n",
      "Tree 33/50 - Train loss: 0.0009 - Val loss: 0.0080\n",
      "Tree 34/50 - Train loss: 0.0009 - Val loss: 0.0081\n",
      "Tree 35/50 - Train loss: 0.0010 - Val loss: 0.0081\n",
      "Tree 36/50 - Train loss: 0.0009 - Val loss: 0.0079\n",
      "Tree 37/50 - Train loss: 0.0009 - Val loss: 0.0079\n",
      "Tree 38/50 - Train loss: 0.0009 - Val loss: 0.0080\n",
      "Tree 39/50 - Train loss: 0.0010 - Val loss: 0.0079\n",
      "Tree 40/50 - Train loss: 0.0010 - Val loss: 0.0081\n",
      "Tree 41/50 - Train loss: 0.0009 - Val loss: 0.0080\n",
      "Tree 42/50 - Train loss: 0.0009 - Val loss: 0.0080\n",
      "Tree 43/50 - Train loss: 0.0009 - Val loss: 0.0080\n",
      "Tree 44/50 - Train loss: 0.0009 - Val loss: 0.0080\n",
      "Tree 45/50 - Train loss: 0.0009 - Val loss: 0.0080\n",
      "Tree 46/50 - Train loss: 0.0009 - Val loss: 0.0080\n",
      "Tree 47/50 - Train loss: 0.0009 - Val loss: 0.0080\n",
      "Tree 48/50 - Train loss: 0.0009 - Val loss: 0.0081\n",
      "Tree 49/50 - Train loss: 0.0009 - Val loss: 0.0080\n",
      "Tree 50/50 - Train loss: 0.0009 - Val loss: 0.0080\n"
     ]
    },
    {
     "data": {
      "image/png": "[encoded data removed]",
      "text/plain": [
       "<Figure size 432x288 with 1 Axes>"
      ]
     },
     "metadata": {
      "needs_background": "light"
     },
     "output_type": "display_data"
    }
   ],
   "source": [
    "from sklearn.ensemble import RandomForestRegressor\n",
    "from sklearn.metrics import mean_squared_error\n",
    "from sklearn.datasets import make_regression\n",
    "from sklearn.model_selection import train_test_split\n",
    "import matplotlib.pyplot as plt\n",
    "\n",
    "# Generate a toy regression dataset\n",
    "# X, y = make_regression(n_samples=1000, n_features=10, random_state=42)\n",
    "\n",
    "# Split the dataset into training and testing sets\n",
    "# X_train, X_test, y_train, y_test = train_test_split(X, y, test_size=0.3, random_state=42)\n",
    "\n",
    "# Initialize a Random Forest Regressor model\n",
    "rf = RandomForestRegressor(n_estimators=300)\n",
    "\n",
    "# Initialize empty lists to store the training and validation loss values\n",
    "train_losses = []\n",
    "val_losses = []\n",
    "\n",
    "# Define the number of trees and the maximum depth of each tree\n",
    "n_trees = 50\n",
    "max_depth = 5\n",
    "\n",
    "# Iterate over the number of trees\n",
    "for n in range(n_trees):\n",
    "\n",
    "    # Fit the model to the training data\n",
    "    rf.fit(X_train, y_train)\n",
    "\n",
    "    # Calculate the training loss\n",
    "    y_pred_train = rf.predict(X_train)\n",
    "    train_loss = mean_squared_error(y_train, y_pred_train)\n",
    "    train_losses.append(train_loss)\n",
    "\n",
    "    # Calculate the validation loss\n",
    "    y_pred_val = rf.predict(X_test)\n",
    "    val_loss = mean_squared_error(y_test, y_pred_val)\n",
    "    val_losses.append(val_loss)\n",
    "\n",
    "    # Print the loss values for each epoch\n",
    "    print(f\"Tree {n+1}/{n_trees} - Train loss: {train_loss:.4f} - Val loss: {val_loss:.4f}\")\n",
    "\n",
    "# max_loss = max(max(train_losses), max(val_losses))\n",
    "# train_losses_norm = np.array(train_losses) / max_loss\n",
    "# val_losses_norm = np.array(val_losses) / max_loss\n",
    "    \n",
    "# Plot the training and validation loss values\n",
    "plt.plot(train_losses, label='Training Loss')\n",
    "plt.plot(val_losses, label='Validation Loss')\n",
    "plt.title(\"Loss graph of 'Random Forest'\")\n",
    "plt.xlabel('Trees')\n",
    "plt.ylabel('Mean Squared Error')\n",
    "plt.legend()\n",
    "plt.savefig('image/RF Loss graph.png',dpi=600, bbox_inches='tight')\n",
    "plt.show()\n"
   ]
  },
  {
   "cell_type": "code",
   "execution_count": 41,
   "id": "cb52d5b4",
   "metadata": {},
   "outputs": [
    {
     "name": "stdout",
     "output_type": "stream",
     "text": [
      "Estimator 1/50 - Train loss: 0.0504 - Val loss: 0.0547\n",
      "Estimator 2/50 - Train loss: 0.0496 - Val loss: 0.0537\n",
      "Estimator 3/50 - Train loss: 0.0487 - Val loss: 0.0530\n",
      "Estimator 4/50 - Train loss: 0.0503 - Val loss: 0.0546\n",
      "Estimator 5/50 - Train loss: 0.0511 - Val loss: 0.0553\n",
      "Estimator 6/50 - Train loss: 0.0490 - Val loss: 0.0533\n",
      "Estimator 7/50 - Train loss: 0.0497 - Val loss: 0.0539\n",
      "Estimator 8/50 - Train loss: 0.0505 - Val loss: 0.0546\n",
      "Estimator 9/50 - Train loss: 0.0500 - Val loss: 0.0542\n",
      "Estimator 10/50 - Train loss: 0.0514 - Val loss: 0.0556\n",
      "Estimator 11/50 - Train loss: 0.0495 - Val loss: 0.0537\n",
      "Estimator 12/50 - Train loss: 0.0502 - Val loss: 0.0542\n",
      "Estimator 13/50 - Train loss: 0.0501 - Val loss: 0.0543\n",
      "Estimator 14/50 - Train loss: 0.0495 - Val loss: 0.0539\n",
      "Estimator 15/50 - Train loss: 0.0504 - Val loss: 0.0547\n",
      "Estimator 16/50 - Train loss: 0.0500 - Val loss: 0.0541\n",
      "Estimator 17/50 - Train loss: 0.0507 - Val loss: 0.0549\n",
      "Estimator 18/50 - Train loss: 0.0511 - Val loss: 0.0553\n",
      "Estimator 19/50 - Train loss: 0.0502 - Val loss: 0.0543\n",
      "Estimator 20/50 - Train loss: 0.0496 - Val loss: 0.0538\n",
      "Estimator 21/50 - Train loss: 0.0507 - Val loss: 0.0549\n",
      "Estimator 22/50 - Train loss: 0.0503 - Val loss: 0.0545\n",
      "Estimator 23/50 - Train loss: 0.0495 - Val loss: 0.0537\n",
      "Estimator 24/50 - Train loss: 0.0502 - Val loss: 0.0545\n",
      "Estimator 25/50 - Train loss: 0.0505 - Val loss: 0.0546\n",
      "Estimator 26/50 - Train loss: 0.0496 - Val loss: 0.0538\n",
      "Estimator 27/50 - Train loss: 0.0501 - Val loss: 0.0542\n",
      "Estimator 28/50 - Train loss: 0.0503 - Val loss: 0.0545\n",
      "Estimator 29/50 - Train loss: 0.0506 - Val loss: 0.0548\n",
      "Estimator 30/50 - Train loss: 0.0509 - Val loss: 0.0550\n",
      "Estimator 31/50 - Train loss: 0.0496 - Val loss: 0.0537\n",
      "Estimator 32/50 - Train loss: 0.0499 - Val loss: 0.0544\n",
      "Estimator 33/50 - Train loss: 0.0498 - Val loss: 0.0540\n",
      "Estimator 34/50 - Train loss: 0.0503 - Val loss: 0.0545\n",
      "Estimator 35/50 - Train loss: 0.0505 - Val loss: 0.0548\n",
      "Estimator 36/50 - Train loss: 0.0508 - Val loss: 0.0548\n",
      "Estimator 37/50 - Train loss: 0.0499 - Val loss: 0.0542\n",
      "Estimator 38/50 - Train loss: 0.0497 - Val loss: 0.0539\n",
      "Estimator 39/50 - Train loss: 0.0497 - Val loss: 0.0542\n",
      "Estimator 40/50 - Train loss: 0.0499 - Val loss: 0.0541\n",
      "Estimator 41/50 - Train loss: 0.0494 - Val loss: 0.0538\n",
      "Estimator 42/50 - Train loss: 0.0499 - Val loss: 0.0541\n",
      "Estimator 43/50 - Train loss: 0.0502 - Val loss: 0.0542\n",
      "Estimator 44/50 - Train loss: 0.0488 - Val loss: 0.0531\n",
      "Estimator 45/50 - Train loss: 0.0488 - Val loss: 0.0530\n",
      "Estimator 46/50 - Train loss: 0.0499 - Val loss: 0.0540\n",
      "Estimator 47/50 - Train loss: 0.0500 - Val loss: 0.0541\n",
      "Estimator 48/50 - Train loss: 0.0497 - Val loss: 0.0539\n",
      "Estimator 49/50 - Train loss: 0.0495 - Val loss: 0.0536\n",
      "Estimator 50/50 - Train loss: 0.0501 - Val loss: 0.0542\n"
     ]
    },
    {
     "data": {
      "image/png": "[encoded data removed]",
      "text/plain": [
       "<Figure size 432x288 with 1 Axes>"
      ]
     },
     "metadata": {
      "needs_background": "light"
     },
     "output_type": "display_data"
    }
   ],
   "source": [
    "from sklearn.ensemble import AdaBoostRegressor\n",
    "from sklearn.tree import DecisionTreeRegressor\n",
    "from sklearn.metrics import mean_squared_error\n",
    "from sklearn.datasets import make_regression\n",
    "from sklearn.model_selection import train_test_split\n",
    "import matplotlib.pyplot as plt\n",
    "\n",
    "# Generate a toy regression dataset\n",
    "# X, y = make_regression(n_samples=1000, n_features=10, random_state=42)\n",
    "\n",
    "# Split the dataset into training and testing sets\n",
    "# X_train, X_test, y_train, y_test = train_test_split(X, y, test_size=0.3, random_state=42)\n",
    "\n",
    "# Initialize a Decision Tree Regressor model\n",
    "base_estimator = DecisionTreeRegressor(max_depth=2)\n",
    "n_estimators = 50\n",
    "\n",
    "# Initialize an AdaBoost Regressor model\n",
    "ada = AdaBoostRegressor(base_estimator=base_estimator, n_estimators=n_estimators, learning_rate=0.1, loss='linear')\n",
    "\n",
    "# Initialize empty lists to store the training and validation loss values\n",
    "train_losses = []\n",
    "val_losses = []\n",
    "\n",
    "# Iterate over the number of estimators\n",
    "for n in range(n_estimators):\n",
    "\n",
    "    # Fit the model to the training data\n",
    "    ada.fit(X_train, y_train)\n",
    "\n",
    "    # Calculate the training loss\n",
    "    y_pred_train = ada.predict(X_train)\n",
    "    train_loss = mean_squared_error(y_train, y_pred_train)\n",
    "    train_losses.append(train_loss)\n",
    "\n",
    "    # Calculate the validation loss\n",
    "    y_pred_val = ada.predict(X_test)\n",
    "    val_loss = mean_squared_error(y_test, y_pred_val)\n",
    "    val_losses.append(val_loss)\n",
    "\n",
    "    # Print the loss values for each epoch\n",
    "    print(f\"Estimator {n+1}/{n_estimators} - Train loss: {train_loss:.4f} - Val loss: {val_loss:.4f}\")\n",
    "\n",
    "max_loss = max(max(train_losses), max(val_losses))\n",
    "train_losses_norm = np.array(train_losses) / max_loss\n",
    "val_losses_norm = np.array(val_losses) / max_loss\n",
    "\n",
    "# Plot the training and validation loss values\n",
    "plt.plot(train_losses_norm, label='Training Loss')\n",
    "plt.plot(val_losses_norm, label='Validation Loss')\n",
    "plt.title(\"Loss graph of 'AdaBoost'\")\n",
    "plt.xlabel('Estimators')\n",
    "plt.ylabel('Mean Squared Error')\n",
    "plt.legend()\n",
    "plt.savefig('image/AdaBoost Loss graph.png',dpi=600, bbox_inches='tight')\n",
    "plt.show()\n"
   ]
  },
  {
   "cell_type": "code",
   "execution_count": null,
   "id": "91f1c60d",
   "metadata": {},
   "outputs": [],
   "source": [
    "from sklearn import svm\n",
    "from sklearn.datasets import make_regression\n",
    "from sklearn.metrics import mean_squared_error\n",
    "from sklearn.model_selection import train_test_split\n",
    "import matplotlib.pyplot as plt\n",
    "import numpy as np\n",
    "\n",
    "# Generate a toy regression dataset\n",
    "# X, y = make_regression(n_samples=1000, n_features=10, random_state=42)\n",
    "\n",
    "# Split the dataset into training and testing sets\n",
    "# X_train, X_test, y_train, y_test = train_test_split(X, y, test_size=0.3, random_state=42)\n",
    "\n",
    "# Initialize an SVM model with epsilon-insensitive loss function\n",
    "svm_model = svm.SVR(gamma='scale')\n",
    "\n",
    "# Initialize empty lists to store the training and validation loss values\n",
    "train_losses = []\n",
    "val_losses = []\n",
    "\n",
    "# Iterate over the number of epochs\n",
    "for epoch in range(1):\n",
    "\n",
    "    # Fit the model to the training data\n",
    "    svm_model.fit(X_train, y_train)\n",
    "\n",
    "    # Calculate the training loss\n",
    "    y_train_pred = svm_model.predict(X_train)\n",
    "    train_loss = mean_squared_error(y_train, y_train_pred)\n",
    "    train_losses.append(train_loss)\n",
    "\n",
    "    # Calculate the validation loss\n",
    "    y_val_pred = svm_model.predict(X_test)\n",
    "    val_loss = mean_squared_error(y_test, y_val_pred)\n",
    "    val_losses.append(val_loss)\n",
    "\n",
    "    # Print the loss values for each epoch\n",
    "    print(f\"Epoch {epoch+1}/1 - Train loss: {train_loss:.4f} - Val loss: {val_loss:.4f}\")\n",
    "\n",
    "# Normalize the loss values to a range of 0 to 1 using min-max scaling\n",
    "max_loss = max(max(train_losses), max(val_losses))\n",
    "train_losses_norm = np.array(train_losses) / max_loss\n",
    "val_losses_norm = np.array(val_losses) / max_loss\n",
    "\n",
    "# Plot the training and validation loss values\n",
    "plt.plot(train_losses_norm, label='Training Loss')\n",
    "plt.plot(val_losses_norm, label='Validation Loss')\n",
    "plt.title(\"Loss graph of 'SVM'\")\n",
    "\n",
    "plt.xlabel('Epoch')\n",
    "plt.ylabel('Normalized Mean Squared Error')\n",
    "plt.legend()\n",
    "plt.savefig('image/SVM Loss graph.png',dpi=600, bbox_inches='tight')\n",
    "\n",
    "plt.show()\n"
   ]
  },
  {
   "cell_type": "code",
   "execution_count": 12,
   "id": "f3b643a3",
   "metadata": {},
   "outputs": [
    {
     "ename": "ValueError",
     "evalue": "Unknown label type: 'continuous'",
     "output_type": "error",
     "traceback": [
      "\u001b[1;31m---------------------------------------------------------------------------\u001b[0m",
      "\u001b[1;31mValueError\u001b[0m                                Traceback (most recent call last)",
      "Input \u001b[1;32mIn [12]\u001b[0m, in \u001b[0;36m<cell line: 22>\u001b[1;34m()\u001b[0m\n\u001b[0;32m     21\u001b[0m \u001b[38;5;66;03m# Iterate over the number of epochs\u001b[39;00m\n\u001b[0;32m     22\u001b[0m \u001b[38;5;28;01mfor\u001b[39;00m epoch \u001b[38;5;129;01min\u001b[39;00m \u001b[38;5;28mrange\u001b[39m(\u001b[38;5;241m10\u001b[39m):\n\u001b[0;32m     23\u001b[0m \n\u001b[0;32m     24\u001b[0m     \u001b[38;5;66;03m# Fit the model to the training data\u001b[39;00m\n\u001b[1;32m---> 25\u001b[0m     \u001b[43mlogreg\u001b[49m\u001b[38;5;241;43m.\u001b[39;49m\u001b[43mfit\u001b[49m\u001b[43m(\u001b[49m\u001b[43mX_train\u001b[49m\u001b[43m,\u001b[49m\u001b[43m \u001b[49m\u001b[43my_train\u001b[49m\u001b[43m)\u001b[49m\n\u001b[0;32m     27\u001b[0m     \u001b[38;5;66;03m# Calculate the training loss\u001b[39;00m\n\u001b[0;32m     28\u001b[0m     y_train_pred \u001b[38;5;241m=\u001b[39m logreg\u001b[38;5;241m.\u001b[39mpredict(X_train)\n",
      "File \u001b[1;32m~\\anaconda3\\lib\\site-packages\\sklearn\\linear_model\\_logistic.py:1516\u001b[0m, in \u001b[0;36mLogisticRegression.fit\u001b[1;34m(self, X, y, sample_weight)\u001b[0m\n\u001b[0;32m   1506\u001b[0m     _dtype \u001b[38;5;241m=\u001b[39m [np\u001b[38;5;241m.\u001b[39mfloat64, np\u001b[38;5;241m.\u001b[39mfloat32]\n\u001b[0;32m   1508\u001b[0m X, y \u001b[38;5;241m=\u001b[39m \u001b[38;5;28mself\u001b[39m\u001b[38;5;241m.\u001b[39m_validate_data(\n\u001b[0;32m   1509\u001b[0m     X,\n\u001b[0;32m   1510\u001b[0m     y,\n\u001b[1;32m   (...)\u001b[0m\n\u001b[0;32m   1514\u001b[0m     accept_large_sparse\u001b[38;5;241m=\u001b[39msolver \u001b[38;5;129;01mnot\u001b[39;00m \u001b[38;5;129;01min\u001b[39;00m [\u001b[38;5;124m\"\u001b[39m\u001b[38;5;124mliblinear\u001b[39m\u001b[38;5;124m\"\u001b[39m, \u001b[38;5;124m\"\u001b[39m\u001b[38;5;124msag\u001b[39m\u001b[38;5;124m\"\u001b[39m, \u001b[38;5;124m\"\u001b[39m\u001b[38;5;124msaga\u001b[39m\u001b[38;5;124m\"\u001b[39m],\n\u001b[0;32m   1515\u001b[0m )\n\u001b[1;32m-> 1516\u001b[0m \u001b[43mcheck_classification_targets\u001b[49m\u001b[43m(\u001b[49m\u001b[43my\u001b[49m\u001b[43m)\u001b[49m\n\u001b[0;32m   1517\u001b[0m \u001b[38;5;28mself\u001b[39m\u001b[38;5;241m.\u001b[39mclasses_ \u001b[38;5;241m=\u001b[39m np\u001b[38;5;241m.\u001b[39munique(y)\n\u001b[0;32m   1519\u001b[0m multi_class \u001b[38;5;241m=\u001b[39m _check_multi_class(\u001b[38;5;28mself\u001b[39m\u001b[38;5;241m.\u001b[39mmulti_class, solver, \u001b[38;5;28mlen\u001b[39m(\u001b[38;5;28mself\u001b[39m\u001b[38;5;241m.\u001b[39mclasses_))\n",
      "File \u001b[1;32m~\\anaconda3\\lib\\site-packages\\sklearn\\utils\\multiclass.py:197\u001b[0m, in \u001b[0;36mcheck_classification_targets\u001b[1;34m(y)\u001b[0m\n\u001b[0;32m    189\u001b[0m y_type \u001b[38;5;241m=\u001b[39m type_of_target(y)\n\u001b[0;32m    190\u001b[0m \u001b[38;5;28;01mif\u001b[39;00m y_type \u001b[38;5;129;01mnot\u001b[39;00m \u001b[38;5;129;01min\u001b[39;00m [\n\u001b[0;32m    191\u001b[0m     \u001b[38;5;124m\"\u001b[39m\u001b[38;5;124mbinary\u001b[39m\u001b[38;5;124m\"\u001b[39m,\n\u001b[0;32m    192\u001b[0m     \u001b[38;5;124m\"\u001b[39m\u001b[38;5;124mmulticlass\u001b[39m\u001b[38;5;124m\"\u001b[39m,\n\u001b[1;32m   (...)\u001b[0m\n\u001b[0;32m    195\u001b[0m     \u001b[38;5;124m\"\u001b[39m\u001b[38;5;124mmultilabel-sequences\u001b[39m\u001b[38;5;124m\"\u001b[39m,\n\u001b[0;32m    196\u001b[0m ]:\n\u001b[1;32m--> 197\u001b[0m     \u001b[38;5;28;01mraise\u001b[39;00m \u001b[38;5;167;01mValueError\u001b[39;00m(\u001b[38;5;124m\"\u001b[39m\u001b[38;5;124mUnknown label type: \u001b[39m\u001b[38;5;132;01m%r\u001b[39;00m\u001b[38;5;124m\"\u001b[39m \u001b[38;5;241m%\u001b[39m y_type)\n",
      "\u001b[1;31mValueError\u001b[0m: Unknown label type: 'continuous'"
     ]
    }
   ],
   "source": [
    "from sklearn.linear_model import LogisticRegression \n",
    "# from sklearn.datasets import make_regression\n",
    "from sklearn.metrics import mean_squared_error\n",
    "from sklearn.model_selection import train_test_split\n",
    "import matplotlib.pyplot as plt\n",
    "import numpy as np\n",
    "\n",
    "# Generate a toy regression dataset\n",
    "# X, y = make_regression(n_samples=1000, n_features=10, random_state=42)\n",
    "\n",
    "# Split the dataset into training and testing sets\n",
    "# X_train, X_test, y_train, y_test = train_test_split(X, y, test_size=0.3, random_state=42)\n",
    "\n",
    "# Initialize an SVM model with epsilon-insensitive loss function\n",
    "logreg = LogisticRegression(solver='lbfgs')\n",
    "\n",
    "# Initialize empty lists to store the training and validation loss values\n",
    "train_losses = []\n",
    "val_losses = []\n",
    "\n",
    "# Iterate over the number of epochs\n",
    "for epoch in range(10):\n",
    "\n",
    "    # Fit the model to the training data\n",
    "    logreg.fit(X_train, y_train)\n",
    "\n",
    "    # Calculate the training loss\n",
    "    y_train_pred = logreg.predict(X_train)\n",
    "    train_loss = mean_squared_error(y_train, y_train_pred)\n",
    "    train_losses.append(train_loss)\n",
    "\n",
    "    # Calculate the validation loss\n",
    "    y_val_pred = logreg.predict(X_test)\n",
    "    val_loss = mean_squared_error(y_test, y_val_pred)\n",
    "    val_losses.append(val_loss)\n",
    "\n",
    "    # Print the loss values for each epoch\n",
    "    print(f\"Epoch {epoch+1}/50 - Train loss: {train_loss:.4f} - Val loss: {val_loss:.4f}\")\n",
    "\n",
    "# Normalize the loss values to a range of 0 to 1 using min-max scaling\n",
    "max_loss = max(max(train_losses), max(val_losses))\n",
    "train_losses_norm = np.array(train_losses) / max_loss\n",
    "val_losses_norm = np.array(val_losses) / max_loss\n",
    "\n",
    "# Plot the training and validation loss values\n",
    "plt.plot(train_losses_norm, label='Training Loss')\n",
    "plt.plot(val_losses_norm, label='Validation Loss')\n",
    "plt.title(\"Loss graph of 'LogReg'\")\n",
    "\n",
    "plt.xlabel('Epoch')\n",
    "plt.ylabel('Normalized Mean Squared Error')\n",
    "plt.legend()\n",
    "plt.savefig('image/LogReg Loss graph.png',dpi=600, bbox_inches='tight')\n",
    "\n",
    "plt.show()\n"
   ]
  },
  {
   "cell_type": "code",
   "execution_count": 6,
   "id": "6169ae6a",
   "metadata": {},
   "outputs": [
    {
     "name": "stderr",
     "output_type": "stream",
     "text": [
      "C:\\Users\\yubra\\anaconda3\\lib\\site-packages\\sklearn\\tree\\_classes.py:359: FutureWarning: Criterion 'mse' was deprecated in v1.0 and will be removed in version 1.2. Use `criterion='squared_error'` which is equivalent.\n",
      "  warnings.warn(\n",
      "C:\\Users\\yubra\\anaconda3\\lib\\site-packages\\sklearn\\tree\\_classes.py:359: FutureWarning: Criterion 'mse' was deprecated in v1.0 and will be removed in version 1.2. Use `criterion='squared_error'` which is equivalent.\n",
      "  warnings.warn(\n"
     ]
    },
    {
     "name": "stdout",
     "output_type": "stream",
     "text": [
      "Epoch 1/50 - Train loss: 0.0110 - Val loss: 0.0179\n",
      "Epoch 2/50 - Train loss: 0.0110 - Val loss: 0.0179\n"
     ]
    },
    {
     "name": "stderr",
     "output_type": "stream",
     "text": [
      "C:\\Users\\yubra\\anaconda3\\lib\\site-packages\\sklearn\\tree\\_classes.py:359: FutureWarning: Criterion 'mse' was deprecated in v1.0 and will be removed in version 1.2. Use `criterion='squared_error'` which is equivalent.\n",
      "  warnings.warn(\n",
      "C:\\Users\\yubra\\anaconda3\\lib\\site-packages\\sklearn\\tree\\_classes.py:359: FutureWarning: Criterion 'mse' was deprecated in v1.0 and will be removed in version 1.2. Use `criterion='squared_error'` which is equivalent.\n",
      "  warnings.warn(\n"
     ]
    },
    {
     "name": "stdout",
     "output_type": "stream",
     "text": [
      "Epoch 3/50 - Train loss: 0.0110 - Val loss: 0.0179\n",
      "Epoch 4/50 - Train loss: 0.0110 - Val loss: 0.0179\n"
     ]
    },
    {
     "name": "stderr",
     "output_type": "stream",
     "text": [
      "C:\\Users\\yubra\\anaconda3\\lib\\site-packages\\sklearn\\tree\\_classes.py:359: FutureWarning: Criterion 'mse' was deprecated in v1.0 and will be removed in version 1.2. Use `criterion='squared_error'` which is equivalent.\n",
      "  warnings.warn(\n",
      "C:\\Users\\yubra\\anaconda3\\lib\\site-packages\\sklearn\\tree\\_classes.py:359: FutureWarning: Criterion 'mse' was deprecated in v1.0 and will be removed in version 1.2. Use `criterion='squared_error'` which is equivalent.\n",
      "  warnings.warn(\n"
     ]
    },
    {
     "name": "stdout",
     "output_type": "stream",
     "text": [
      "Epoch 5/50 - Train loss: 0.0110 - Val loss: 0.0179\n",
      "Epoch 6/50 - Train loss: 0.0110 - Val loss: 0.0179\n"
     ]
    },
    {
     "name": "stderr",
     "output_type": "stream",
     "text": [
      "C:\\Users\\yubra\\anaconda3\\lib\\site-packages\\sklearn\\tree\\_classes.py:359: FutureWarning: Criterion 'mse' was deprecated in v1.0 and will be removed in version 1.2. Use `criterion='squared_error'` which is equivalent.\n",
      "  warnings.warn(\n",
      "C:\\Users\\yubra\\anaconda3\\lib\\site-packages\\sklearn\\tree\\_classes.py:359: FutureWarning: Criterion 'mse' was deprecated in v1.0 and will be removed in version 1.2. Use `criterion='squared_error'` which is equivalent.\n",
      "  warnings.warn(\n"
     ]
    },
    {
     "name": "stdout",
     "output_type": "stream",
     "text": [
      "Epoch 7/50 - Train loss: 0.0110 - Val loss: 0.0179\n",
      "Epoch 8/50 - Train loss: 0.0110 - Val loss: 0.0179\n"
     ]
    },
    {
     "name": "stderr",
     "output_type": "stream",
     "text": [
      "C:\\Users\\yubra\\anaconda3\\lib\\site-packages\\sklearn\\tree\\_classes.py:359: FutureWarning: Criterion 'mse' was deprecated in v1.0 and will be removed in version 1.2. Use `criterion='squared_error'` which is equivalent.\n",
      "  warnings.warn(\n",
      "C:\\Users\\yubra\\anaconda3\\lib\\site-packages\\sklearn\\tree\\_classes.py:359: FutureWarning: Criterion 'mse' was deprecated in v1.0 and will be removed in version 1.2. Use `criterion='squared_error'` which is equivalent.\n",
      "  warnings.warn(\n"
     ]
    },
    {
     "name": "stdout",
     "output_type": "stream",
     "text": [
      "Epoch 9/50 - Train loss: 0.0110 - Val loss: 0.0179\n",
      "Epoch 10/50 - Train loss: 0.0110 - Val loss: 0.0179\n"
     ]
    },
    {
     "name": "stderr",
     "output_type": "stream",
     "text": [
      "C:\\Users\\yubra\\anaconda3\\lib\\site-packages\\sklearn\\tree\\_classes.py:359: FutureWarning: Criterion 'mse' was deprecated in v1.0 and will be removed in version 1.2. Use `criterion='squared_error'` which is equivalent.\n",
      "  warnings.warn(\n",
      "C:\\Users\\yubra\\anaconda3\\lib\\site-packages\\sklearn\\tree\\_classes.py:359: FutureWarning: Criterion 'mse' was deprecated in v1.0 and will be removed in version 1.2. Use `criterion='squared_error'` which is equivalent.\n",
      "  warnings.warn(\n"
     ]
    },
    {
     "name": "stdout",
     "output_type": "stream",
     "text": [
      "Epoch 11/50 - Train loss: 0.0110 - Val loss: 0.0179\n",
      "Epoch 12/50 - Train loss: 0.0110 - Val loss: 0.0179\n"
     ]
    },
    {
     "name": "stderr",
     "output_type": "stream",
     "text": [
      "C:\\Users\\yubra\\anaconda3\\lib\\site-packages\\sklearn\\tree\\_classes.py:359: FutureWarning: Criterion 'mse' was deprecated in v1.0 and will be removed in version 1.2. Use `criterion='squared_error'` which is equivalent.\n",
      "  warnings.warn(\n",
      "C:\\Users\\yubra\\anaconda3\\lib\\site-packages\\sklearn\\tree\\_classes.py:359: FutureWarning: Criterion 'mse' was deprecated in v1.0 and will be removed in version 1.2. Use `criterion='squared_error'` which is equivalent.\n",
      "  warnings.warn(\n"
     ]
    },
    {
     "name": "stdout",
     "output_type": "stream",
     "text": [
      "Epoch 13/50 - Train loss: 0.0110 - Val loss: 0.0179\n",
      "Epoch 14/50 - Train loss: 0.0110 - Val loss: 0.0179\n"
     ]
    },
    {
     "name": "stderr",
     "output_type": "stream",
     "text": [
      "C:\\Users\\yubra\\anaconda3\\lib\\site-packages\\sklearn\\tree\\_classes.py:359: FutureWarning: Criterion 'mse' was deprecated in v1.0 and will be removed in version 1.2. Use `criterion='squared_error'` which is equivalent.\n",
      "  warnings.warn(\n",
      "C:\\Users\\yubra\\anaconda3\\lib\\site-packages\\sklearn\\tree\\_classes.py:359: FutureWarning: Criterion 'mse' was deprecated in v1.0 and will be removed in version 1.2. Use `criterion='squared_error'` which is equivalent.\n",
      "  warnings.warn(\n"
     ]
    },
    {
     "name": "stdout",
     "output_type": "stream",
     "text": [
      "Epoch 15/50 - Train loss: 0.0110 - Val loss: 0.0179\n",
      "Epoch 16/50 - Train loss: 0.0110 - Val loss: 0.0179\n"
     ]
    },
    {
     "name": "stderr",
     "output_type": "stream",
     "text": [
      "C:\\Users\\yubra\\anaconda3\\lib\\site-packages\\sklearn\\tree\\_classes.py:359: FutureWarning: Criterion 'mse' was deprecated in v1.0 and will be removed in version 1.2. Use `criterion='squared_error'` which is equivalent.\n",
      "  warnings.warn(\n",
      "C:\\Users\\yubra\\anaconda3\\lib\\site-packages\\sklearn\\tree\\_classes.py:359: FutureWarning: Criterion 'mse' was deprecated in v1.0 and will be removed in version 1.2. Use `criterion='squared_error'` which is equivalent.\n",
      "  warnings.warn(\n"
     ]
    },
    {
     "name": "stdout",
     "output_type": "stream",
     "text": [
      "Epoch 17/50 - Train loss: 0.0110 - Val loss: 0.0179\n",
      "Epoch 18/50 - Train loss: 0.0110 - Val loss: 0.0179\n"
     ]
    },
    {
     "name": "stderr",
     "output_type": "stream",
     "text": [
      "C:\\Users\\yubra\\anaconda3\\lib\\site-packages\\sklearn\\tree\\_classes.py:359: FutureWarning: Criterion 'mse' was deprecated in v1.0 and will be removed in version 1.2. Use `criterion='squared_error'` which is equivalent.\n",
      "  warnings.warn(\n",
      "C:\\Users\\yubra\\anaconda3\\lib\\site-packages\\sklearn\\tree\\_classes.py:359: FutureWarning: Criterion 'mse' was deprecated in v1.0 and will be removed in version 1.2. Use `criterion='squared_error'` which is equivalent.\n",
      "  warnings.warn(\n"
     ]
    },
    {
     "name": "stdout",
     "output_type": "stream",
     "text": [
      "Epoch 19/50 - Train loss: 0.0110 - Val loss: 0.0179\n",
      "Epoch 20/50 - Train loss: 0.0110 - Val loss: 0.0179\n"
     ]
    },
    {
     "name": "stderr",
     "output_type": "stream",
     "text": [
      "C:\\Users\\yubra\\anaconda3\\lib\\site-packages\\sklearn\\tree\\_classes.py:359: FutureWarning: Criterion 'mse' was deprecated in v1.0 and will be removed in version 1.2. Use `criterion='squared_error'` which is equivalent.\n",
      "  warnings.warn(\n",
      "C:\\Users\\yubra\\anaconda3\\lib\\site-packages\\sklearn\\tree\\_classes.py:359: FutureWarning: Criterion 'mse' was deprecated in v1.0 and will be removed in version 1.2. Use `criterion='squared_error'` which is equivalent.\n",
      "  warnings.warn(\n"
     ]
    },
    {
     "name": "stdout",
     "output_type": "stream",
     "text": [
      "Epoch 21/50 - Train loss: 0.0110 - Val loss: 0.0179\n",
      "Epoch 22/50 - Train loss: 0.0110 - Val loss: 0.0179\n"
     ]
    },
    {
     "name": "stderr",
     "output_type": "stream",
     "text": [
      "C:\\Users\\yubra\\anaconda3\\lib\\site-packages\\sklearn\\tree\\_classes.py:359: FutureWarning: Criterion 'mse' was deprecated in v1.0 and will be removed in version 1.2. Use `criterion='squared_error'` which is equivalent.\n",
      "  warnings.warn(\n",
      "C:\\Users\\yubra\\anaconda3\\lib\\site-packages\\sklearn\\tree\\_classes.py:359: FutureWarning: Criterion 'mse' was deprecated in v1.0 and will be removed in version 1.2. Use `criterion='squared_error'` which is equivalent.\n",
      "  warnings.warn(\n"
     ]
    },
    {
     "name": "stdout",
     "output_type": "stream",
     "text": [
      "Epoch 23/50 - Train loss: 0.0110 - Val loss: 0.0179\n",
      "Epoch 24/50 - Train loss: 0.0110 - Val loss: 0.0179\n"
     ]
    },
    {
     "name": "stderr",
     "output_type": "stream",
     "text": [
      "C:\\Users\\yubra\\anaconda3\\lib\\site-packages\\sklearn\\tree\\_classes.py:359: FutureWarning: Criterion 'mse' was deprecated in v1.0 and will be removed in version 1.2. Use `criterion='squared_error'` which is equivalent.\n",
      "  warnings.warn(\n",
      "C:\\Users\\yubra\\anaconda3\\lib\\site-packages\\sklearn\\tree\\_classes.py:359: FutureWarning: Criterion 'mse' was deprecated in v1.0 and will be removed in version 1.2. Use `criterion='squared_error'` which is equivalent.\n",
      "  warnings.warn(\n"
     ]
    },
    {
     "name": "stdout",
     "output_type": "stream",
     "text": [
      "Epoch 25/50 - Train loss: 0.0110 - Val loss: 0.0179\n",
      "Epoch 26/50 - Train loss: 0.0110 - Val loss: 0.0179\n"
     ]
    },
    {
     "name": "stderr",
     "output_type": "stream",
     "text": [
      "C:\\Users\\yubra\\anaconda3\\lib\\site-packages\\sklearn\\tree\\_classes.py:359: FutureWarning: Criterion 'mse' was deprecated in v1.0 and will be removed in version 1.2. Use `criterion='squared_error'` which is equivalent.\n",
      "  warnings.warn(\n",
      "C:\\Users\\yubra\\anaconda3\\lib\\site-packages\\sklearn\\tree\\_classes.py:359: FutureWarning: Criterion 'mse' was deprecated in v1.0 and will be removed in version 1.2. Use `criterion='squared_error'` which is equivalent.\n",
      "  warnings.warn(\n"
     ]
    },
    {
     "name": "stdout",
     "output_type": "stream",
     "text": [
      "Epoch 27/50 - Train loss: 0.0110 - Val loss: 0.0179\n",
      "Epoch 28/50 - Train loss: 0.0110 - Val loss: 0.0179\n"
     ]
    },
    {
     "name": "stderr",
     "output_type": "stream",
     "text": [
      "C:\\Users\\yubra\\anaconda3\\lib\\site-packages\\sklearn\\tree\\_classes.py:359: FutureWarning: Criterion 'mse' was deprecated in v1.0 and will be removed in version 1.2. Use `criterion='squared_error'` which is equivalent.\n",
      "  warnings.warn(\n",
      "C:\\Users\\yubra\\anaconda3\\lib\\site-packages\\sklearn\\tree\\_classes.py:359: FutureWarning: Criterion 'mse' was deprecated in v1.0 and will be removed in version 1.2. Use `criterion='squared_error'` which is equivalent.\n",
      "  warnings.warn(\n"
     ]
    },
    {
     "name": "stdout",
     "output_type": "stream",
     "text": [
      "Epoch 29/50 - Train loss: 0.0110 - Val loss: 0.0179\n",
      "Epoch 30/50 - Train loss: 0.0110 - Val loss: 0.0179\n"
     ]
    },
    {
     "name": "stderr",
     "output_type": "stream",
     "text": [
      "C:\\Users\\yubra\\anaconda3\\lib\\site-packages\\sklearn\\tree\\_classes.py:359: FutureWarning: Criterion 'mse' was deprecated in v1.0 and will be removed in version 1.2. Use `criterion='squared_error'` which is equivalent.\n",
      "  warnings.warn(\n",
      "C:\\Users\\yubra\\anaconda3\\lib\\site-packages\\sklearn\\tree\\_classes.py:359: FutureWarning: Criterion 'mse' was deprecated in v1.0 and will be removed in version 1.2. Use `criterion='squared_error'` which is equivalent.\n",
      "  warnings.warn(\n"
     ]
    },
    {
     "name": "stdout",
     "output_type": "stream",
     "text": [
      "Epoch 31/50 - Train loss: 0.0110 - Val loss: 0.0179\n",
      "Epoch 32/50 - Train loss: 0.0110 - Val loss: 0.0179\n"
     ]
    },
    {
     "name": "stderr",
     "output_type": "stream",
     "text": [
      "C:\\Users\\yubra\\anaconda3\\lib\\site-packages\\sklearn\\tree\\_classes.py:359: FutureWarning: Criterion 'mse' was deprecated in v1.0 and will be removed in version 1.2. Use `criterion='squared_error'` which is equivalent.\n",
      "  warnings.warn(\n",
      "C:\\Users\\yubra\\anaconda3\\lib\\site-packages\\sklearn\\tree\\_classes.py:359: FutureWarning: Criterion 'mse' was deprecated in v1.0 and will be removed in version 1.2. Use `criterion='squared_error'` which is equivalent.\n",
      "  warnings.warn(\n"
     ]
    },
    {
     "name": "stdout",
     "output_type": "stream",
     "text": [
      "Epoch 33/50 - Train loss: 0.0110 - Val loss: 0.0179\n",
      "Epoch 34/50 - Train loss: 0.0110 - Val loss: 0.0179\n"
     ]
    },
    {
     "name": "stderr",
     "output_type": "stream",
     "text": [
      "C:\\Users\\yubra\\anaconda3\\lib\\site-packages\\sklearn\\tree\\_classes.py:359: FutureWarning: Criterion 'mse' was deprecated in v1.0 and will be removed in version 1.2. Use `criterion='squared_error'` which is equivalent.\n",
      "  warnings.warn(\n",
      "C:\\Users\\yubra\\anaconda3\\lib\\site-packages\\sklearn\\tree\\_classes.py:359: FutureWarning: Criterion 'mse' was deprecated in v1.0 and will be removed in version 1.2. Use `criterion='squared_error'` which is equivalent.\n",
      "  warnings.warn(\n"
     ]
    },
    {
     "name": "stdout",
     "output_type": "stream",
     "text": [
      "Epoch 35/50 - Train loss: 0.0110 - Val loss: 0.0179\n",
      "Epoch 36/50 - Train loss: 0.0110 - Val loss: 0.0179\n"
     ]
    },
    {
     "name": "stderr",
     "output_type": "stream",
     "text": [
      "C:\\Users\\yubra\\anaconda3\\lib\\site-packages\\sklearn\\tree\\_classes.py:359: FutureWarning: Criterion 'mse' was deprecated in v1.0 and will be removed in version 1.2. Use `criterion='squared_error'` which is equivalent.\n",
      "  warnings.warn(\n",
      "C:\\Users\\yubra\\anaconda3\\lib\\site-packages\\sklearn\\tree\\_classes.py:359: FutureWarning: Criterion 'mse' was deprecated in v1.0 and will be removed in version 1.2. Use `criterion='squared_error'` which is equivalent.\n",
      "  warnings.warn(\n"
     ]
    },
    {
     "name": "stdout",
     "output_type": "stream",
     "text": [
      "Epoch 37/50 - Train loss: 0.0110 - Val loss: 0.0179\n",
      "Epoch 38/50 - Train loss: 0.0110 - Val loss: 0.0179\n"
     ]
    },
    {
     "name": "stderr",
     "output_type": "stream",
     "text": [
      "C:\\Users\\yubra\\anaconda3\\lib\\site-packages\\sklearn\\tree\\_classes.py:359: FutureWarning: Criterion 'mse' was deprecated in v1.0 and will be removed in version 1.2. Use `criterion='squared_error'` which is equivalent.\n",
      "  warnings.warn(\n",
      "C:\\Users\\yubra\\anaconda3\\lib\\site-packages\\sklearn\\tree\\_classes.py:359: FutureWarning: Criterion 'mse' was deprecated in v1.0 and will be removed in version 1.2. Use `criterion='squared_error'` which is equivalent.\n",
      "  warnings.warn(\n"
     ]
    },
    {
     "name": "stdout",
     "output_type": "stream",
     "text": [
      "Epoch 39/50 - Train loss: 0.0110 - Val loss: 0.0179\n",
      "Epoch 40/50 - Train loss: 0.0110 - Val loss: 0.0179\n"
     ]
    },
    {
     "name": "stderr",
     "output_type": "stream",
     "text": [
      "C:\\Users\\yubra\\anaconda3\\lib\\site-packages\\sklearn\\tree\\_classes.py:359: FutureWarning: Criterion 'mse' was deprecated in v1.0 and will be removed in version 1.2. Use `criterion='squared_error'` which is equivalent.\n",
      "  warnings.warn(\n",
      "C:\\Users\\yubra\\anaconda3\\lib\\site-packages\\sklearn\\tree\\_classes.py:359: FutureWarning: Criterion 'mse' was deprecated in v1.0 and will be removed in version 1.2. Use `criterion='squared_error'` which is equivalent.\n",
      "  warnings.warn(\n"
     ]
    },
    {
     "name": "stdout",
     "output_type": "stream",
     "text": [
      "Epoch 41/50 - Train loss: 0.0110 - Val loss: 0.0179\n",
      "Epoch 42/50 - Train loss: 0.0110 - Val loss: 0.0179\n"
     ]
    },
    {
     "name": "stderr",
     "output_type": "stream",
     "text": [
      "C:\\Users\\yubra\\anaconda3\\lib\\site-packages\\sklearn\\tree\\_classes.py:359: FutureWarning: Criterion 'mse' was deprecated in v1.0 and will be removed in version 1.2. Use `criterion='squared_error'` which is equivalent.\n",
      "  warnings.warn(\n",
      "C:\\Users\\yubra\\anaconda3\\lib\\site-packages\\sklearn\\tree\\_classes.py:359: FutureWarning: Criterion 'mse' was deprecated in v1.0 and will be removed in version 1.2. Use `criterion='squared_error'` which is equivalent.\n",
      "  warnings.warn(\n"
     ]
    },
    {
     "name": "stdout",
     "output_type": "stream",
     "text": [
      "Epoch 43/50 - Train loss: 0.0110 - Val loss: 0.0179\n",
      "Epoch 44/50 - Train loss: 0.0110 - Val loss: 0.0179\n"
     ]
    },
    {
     "name": "stderr",
     "output_type": "stream",
     "text": [
      "C:\\Users\\yubra\\anaconda3\\lib\\site-packages\\sklearn\\tree\\_classes.py:359: FutureWarning: Criterion 'mse' was deprecated in v1.0 and will be removed in version 1.2. Use `criterion='squared_error'` which is equivalent.\n",
      "  warnings.warn(\n",
      "C:\\Users\\yubra\\anaconda3\\lib\\site-packages\\sklearn\\tree\\_classes.py:359: FutureWarning: Criterion 'mse' was deprecated in v1.0 and will be removed in version 1.2. Use `criterion='squared_error'` which is equivalent.\n",
      "  warnings.warn(\n"
     ]
    },
    {
     "name": "stdout",
     "output_type": "stream",
     "text": [
      "Epoch 45/50 - Train loss: 0.0110 - Val loss: 0.0179\n",
      "Epoch 46/50 - Train loss: 0.0110 - Val loss: 0.0179\n"
     ]
    },
    {
     "name": "stderr",
     "output_type": "stream",
     "text": [
      "C:\\Users\\yubra\\anaconda3\\lib\\site-packages\\sklearn\\tree\\_classes.py:359: FutureWarning: Criterion 'mse' was deprecated in v1.0 and will be removed in version 1.2. Use `criterion='squared_error'` which is equivalent.\n",
      "  warnings.warn(\n",
      "C:\\Users\\yubra\\anaconda3\\lib\\site-packages\\sklearn\\tree\\_classes.py:359: FutureWarning: Criterion 'mse' was deprecated in v1.0 and will be removed in version 1.2. Use `criterion='squared_error'` which is equivalent.\n",
      "  warnings.warn(\n"
     ]
    },
    {
     "name": "stdout",
     "output_type": "stream",
     "text": [
      "Epoch 47/50 - Train loss: 0.0110 - Val loss: 0.0179\n",
      "Epoch 48/50 - Train loss: 0.0110 - Val loss: 0.0179\n"
     ]
    },
    {
     "name": "stderr",
     "output_type": "stream",
     "text": [
      "C:\\Users\\yubra\\anaconda3\\lib\\site-packages\\sklearn\\tree\\_classes.py:359: FutureWarning: Criterion 'mse' was deprecated in v1.0 and will be removed in version 1.2. Use `criterion='squared_error'` which is equivalent.\n",
      "  warnings.warn(\n",
      "C:\\Users\\yubra\\anaconda3\\lib\\site-packages\\sklearn\\tree\\_classes.py:359: FutureWarning: Criterion 'mse' was deprecated in v1.0 and will be removed in version 1.2. Use `criterion='squared_error'` which is equivalent.\n",
      "  warnings.warn(\n"
     ]
    },
    {
     "name": "stdout",
     "output_type": "stream",
     "text": [
      "Epoch 49/50 - Train loss: 0.0110 - Val loss: 0.0179\n",
      "Epoch 50/50 - Train loss: 0.0110 - Val loss: 0.0179\n"
     ]
    },
    {
     "data": {
      "image/png": "[encoded data removed]",
      "text/plain": [
       "<Figure size 432x288 with 1 Axes>"
      ]
     },
     "metadata": {
      "needs_background": "light"
     },
     "output_type": "display_data"
    }
   ],
   "source": [
    "from sklearn.tree import DecisionTreeRegressor\n",
    "from sklearn.datasets import make_regression\n",
    "from sklearn.metrics import mean_squared_error\n",
    "from sklearn.model_selection import train_test_split\n",
    "import matplotlib.pyplot as plt\n",
    "import numpy as np\n",
    "\n",
    "# Generate a toy regression dataset\n",
    "# X, y = make_regression(n_samples=1000, n_features=10, random_state=42)\n",
    "\n",
    "# Split the dataset into training and testing sets\n",
    "# X_train, X_test, y_train, y_test = train_test_split(X, y, test_size=0.3, random_state=42)\n",
    "\n",
    "# Initialize a decision tree model with mean squared error as the criterion\n",
    "dt_model = DecisionTreeRegressor(criterion='mse', max_depth=6, random_state=42)\n",
    "\n",
    "# Initialize empty lists to store the training and validation loss values\n",
    "train_losses = []\n",
    "val_losses = []\n",
    "\n",
    "# Iterate over the number of epochs\n",
    "for epoch in range(50):\n",
    "\n",
    "    # Fit the model to the training data\n",
    "    dt_model.fit(X_train, y_train)\n",
    "\n",
    "    # Calculate the training loss\n",
    "    y_train_pred = dt_model.predict(X_train)\n",
    "    train_loss = mean_squared_error(y_train, y_train_pred)\n",
    "    train_losses.append(train_loss)\n",
    "\n",
    "    # Calculate the validation loss\n",
    "    y_val_pred = dt_model.predict(X_test)\n",
    "    val_loss = mean_squared_error(y_test, y_val_pred)\n",
    "    val_losses.append(val_loss)\n",
    "\n",
    "    # Print the loss values for each epoch\n",
    "    print(f\"Epoch {epoch+1}/50 - Train loss: {train_loss:.4f} - Val loss: {val_loss:.4f}\")\n",
    "\n",
    "# Normalize the loss values to a range of 0 to 1 using min-max scaling\n",
    "# train_losses = (train_losses - np.min(train_losses)) / (np.max(train_losses) - np.min(train_losses))\n",
    "# val_losses = (val_losses - np.min(val_losses)) / (np.max(val_losses) - np.min(val_losses))\n",
    "\n",
    "# Plot the training and validation loss values\n",
    "plt.plot(train_losses, label='Training Loss')\n",
    "plt.plot(val_losses, label='Validation Loss')\n",
    "plt.title(\"Loss graph of 'Desicion Tree'\")\n",
    "plt.xlabel('Epoch')\n",
    "plt.ylabel('Normalized Mean Squared Error')\n",
    "plt.legend()\n",
    "plt.savefig('image/DT Loss graph.png',dpi=600, bbox_inches='tight')\n",
    "plt.show()\n"
   ]
  },
  {
   "cell_type": "code",
   "execution_count": null,
   "id": "bbb21a57",
   "metadata": {},
   "outputs": [],
   "source": []
  },
  {
   "cell_type": "code",
   "execution_count": null,
   "id": "32ee1d9f",
   "metadata": {},
   "outputs": [],
   "source": []
  },
  {
   "cell_type": "code",
   "execution_count": null,
   "id": "b18edab3",
   "metadata": {},
   "outputs": [],
   "source": []
  }
 ],
 "metadata": {
  "kernelspec": {
   "display_name": "Python 3",
   "language": "python",
   "name": "python3"
  },
  "language_info": {
   "codemirror_mode": {
    "name": "ipython",
    "version": 3
   },
   "file_extension": ".py",
   "mimetype": "text/x-python",
   "name": "python",
   "nbconvert_exporter": "python",
   "pygments_lexer": "ipython3",
   "version": "3.9.12"
  }
 },
 "nbformat": 4,
 "nbformat_minor": 5
}
